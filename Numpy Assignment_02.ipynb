{
 "cells": [
  {
   "cell_type": "code",
   "execution_count": 1,
   "id": "looking-hungary",
   "metadata": {},
   "outputs": [],
   "source": [
    "import numpy as np"
   ]
  },
  {
   "cell_type": "markdown",
   "id": "judicial-spotlight",
   "metadata": {},
   "source": [
    "# 1. Create a null vector of size 10 but the fifth value which is 1."
   ]
  },
  {
   "cell_type": "code",
   "execution_count": 2,
   "id": "raised-triple",
   "metadata": {},
   "outputs": [
    {
     "name": "stdout",
     "output_type": "stream",
     "text": [
      "[0. 0. 0. 0. 1. 0. 0. 0. 0. 0.]\n"
     ]
    }
   ],
   "source": [
    "ten_zeroes = np.zeros(10)\n",
    "ten_zeroes[4] = 1\n",
    "print(ten_zeroes)"
   ]
  },
  {
   "cell_type": "markdown",
   "id": "sunrise-blowing",
   "metadata": {},
   "source": [
    "# 2. Create a vector with values ranging from 10 to 49."
   ]
  },
  {
   "cell_type": "code",
   "execution_count": 3,
   "id": "elegant-barrier",
   "metadata": {},
   "outputs": [
    {
     "name": "stdout",
     "output_type": "stream",
     "text": [
      "[10 11 12 13 14 15 16 17 18 19 20 21 22 23 24 25 26 27 28 29 30 31 32 33\n",
      " 34 35 36 37 38 39 40 41 42 43 44 45 46 47 48 49]\n"
     ]
    }
   ],
   "source": [
    "ten_fortynine = np.arange(10,50)\n",
    "print(ten_fortynine)"
   ]
  },
  {
   "cell_type": "markdown",
   "id": "white-dutch",
   "metadata": {},
   "source": [
    "# 3. Create a 3x3 matrix with values ranging from 0 to 8"
   ]
  },
  {
   "cell_type": "code",
   "execution_count": 4,
   "id": "medieval-toilet",
   "metadata": {},
   "outputs": [
    {
     "data": {
      "text/plain": [
       "array([[6, 1, 6],\n",
       "       [5, 4, 3],\n",
       "       [2, 7, 0]])"
      ]
     },
     "execution_count": 4,
     "metadata": {},
     "output_type": "execute_result"
    }
   ],
   "source": [
    "mat = np.random.randint(0,8,(3,3))\n",
    "mat"
   ]
  },
  {
   "cell_type": "markdown",
   "id": "impressive-massage",
   "metadata": {},
   "source": [
    "# 4. Find indices of non-zero elements from [1,2,0,0,4,0]"
   ]
  },
  {
   "cell_type": "code",
   "execution_count": 5,
   "id": "individual-smile",
   "metadata": {},
   "outputs": [
    {
     "data": {
      "text/plain": [
       "(array([0, 1, 4], dtype=int64),)"
      ]
     },
     "execution_count": 5,
     "metadata": {},
     "output_type": "execute_result"
    }
   ],
   "source": [
    "index = np.nonzero([1,2,0,0,4,0])\n",
    "index"
   ]
  },
  {
   "cell_type": "markdown",
   "id": "senior-latino",
   "metadata": {},
   "source": [
    "# 5. Create a 10x10 array with random values and find the minimum and maximum values."
   ]
  },
  {
   "cell_type": "code",
   "execution_count": 6,
   "id": "olympic-fusion",
   "metadata": {},
   "outputs": [
    {
     "name": "stdout",
     "output_type": "stream",
     "text": [
      "Min value 0\n",
      "Max Value 99\n"
     ]
    }
   ],
   "source": [
    "np.random.seed(7)\n",
    "\n",
    "x= np.random.randint(0,100,(10,10))\n",
    "print(\"Min value\", x.min())\n",
    "print(\"Max Value\", x.max())"
   ]
  },
  {
   "cell_type": "markdown",
   "id": "sorted-cliff",
   "metadata": {},
   "source": [
    "# 6. Create a random vector of size 30 and find the mean value."
   ]
  },
  {
   "cell_type": "code",
   "execution_count": 7,
   "id": "violent-wages",
   "metadata": {},
   "outputs": [
    {
     "data": {
      "text/plain": [
       "0.5325093796254533"
      ]
     },
     "execution_count": 7,
     "metadata": {},
     "output_type": "execute_result"
    }
   ],
   "source": [
    "random = np.random.random(30)\n",
    "random.mean()"
   ]
  },
  {
   "cell_type": "code",
   "execution_count": null,
   "id": "bronze-houston",
   "metadata": {},
   "outputs": [],
   "source": []
  }
 ],
 "metadata": {
  "kernelspec": {
   "display_name": "Python 3",
   "language": "python",
   "name": "python3"
  },
  "language_info": {
   "codemirror_mode": {
    "name": "ipython",
    "version": 3
   },
   "file_extension": ".py",
   "mimetype": "text/x-python",
   "name": "python",
   "nbconvert_exporter": "python",
   "pygments_lexer": "ipython3",
   "version": "3.8.6"
  }
 },
 "nbformat": 4,
 "nbformat_minor": 5
}
